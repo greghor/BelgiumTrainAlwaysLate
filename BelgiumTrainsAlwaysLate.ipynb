{
 "cells": [
  {
   "cell_type": "markdown",
   "metadata": {},
   "source": [
    "# Belgium trains are always late"
   ]
  },
  {
   "cell_type": "markdown",
   "metadata": {},
   "source": [
    "Belgium trains are always late. That might sounds like a cliché but this is unfortunately confirmed almost every day, especially in Brussels. Usually, I take the train at 8:06 heading to Ostend from Brussels South Station. I stop in beautiful Ghent where my office is located. I generally show up about 2 min before the scheduled departure time. With no exageration, I can say that my train is systematically delayed by about $8 \\pm 5$ min. And it is now freaking cold here in Brussels. So I wait everyday in the Belgium blizzard, fulminating against the Belgium railway company, with the only consolation of reading the very \"deep\" articles from Metronews newspaper.\n",
    "\n",
    "There is a second train stopping in Ghent, scheduled at 8:22 with destination Bruges. I take it from time to time, when I snooze my alarm so much\n",
    "that I end up being late. Unfortunately this train isn't really more on time than the one leaving at 8:06. \n",
    "While I can not do much against trains delays, I might take advantage from the fact that two trains are leaving in a row; and try to determine at what time I should arrive at the station such as to wait the least before stepping in a train.\n",
    "\n",
    "That's the main goal of this post.\n"
   ]
  },
  {
   "cell_type": "markdown",
   "metadata": {},
   "source": [
    "## Modelisation of the train departure time"
   ]
  },
  {
   "cell_type": "markdown",
   "metadata": {},
   "source": [
    "Departure times varies from day to day, so it is quite natural to use a probability distribution to describe this quantity. Idealy, I should use the train delay record of the Belgium railway company in order to define the shape of the distribution. This dataset is not publicly available, I therefore need to make some hypothesis on the distribution based on my own experience. "
   ]
  },
  {
   "cell_type": "markdown",
   "metadata": {},
   "source": [
    "### Shape of the distribution\n"
   ]
  },
  {
   "cell_type": "markdown",
   "metadata": {},
   "source": [
    "It is quite common in the litterature to model phenomena such as departure time of metros with an exponential distribution, which is continuously decreasing on $\\mathbb{R}^+$. I think it is not relevant in my situation as, from my experience, the most likely delay is about 8 min. Furthermore, the probabiliy that the train leaves before the scheduled time should be zero.\n",
    "\n",
    "Let's call A the random variable \"departure time of the train to Ostend\" and $p_A(t)$ its distribution. \n",
    "    Given the discussion above, the simplest choice is the truncated normal distribution:\n",
    "\n",
    "$$ p_A(t) = \\frac{1}{1-F_A(C_A)} \\frac{1}{\\sigma_A \\sqrt{2\\pi} }  \\text{exp}(- \\frac{(t-\\mu_A)^2}{2\\sigma_A^2}) \\ \\  \\text{for} \\ \\\n",
    "t > C_A,$$\n",
    "\n",
    "and $p_A(t) = 0 \\ \\ \\text{otherwise}$.\n",
    "\n",
    "$C_A$ is the theoretical departure time and $F_A( t )$ is the cumulative normal distribution with parameters $(\\mu_A,\\sigma_A$). \n",
    "\n",
    "I assume that the random variable $B$ \"departure time of the train to Bruges\", is independent from A, and also follows the same type of distribution. \n",
    "\n",
    "For the numerical implementation in Python, I rescale all quantities such that $C_A=0$ and I use the minute as the unit of time. The numerical values for the parameters are:\n",
    "- train to Ostend scheduled at 8:06 (train A) : $\\mu_A=8$, $\\sigma_A=5$ and $C_A=0$,\n",
    "- train to Bruges scheduled at 8:22 (train B) : $\\mu_B=8$, $\\sigma_B=5$ and $C_B=16$ .\n"
   ]
  },
  {
   "cell_type": "markdown",
   "metadata": {},
   "source": [
    "### How to build truncated normal distribution in Python?"
   ]
  },
  {
   "cell_type": "code",
   "execution_count": 71,
   "metadata": {
    "collapsed": true
   },
   "outputs": [],
   "source": [
    "#---------\n",
    "# Create distribution for train A and B\n",
    "#---------\n",
    "\n",
    "import numpy as np\n",
    "from scipy.stats import truncnorm\n",
    "%matplotlib inline\n",
    "\n",
    "\n",
    "# time variable in minutes, I need to take tMax quite large \n",
    "# to be sure that the numerical integration of the distribution is close to 1.0\n",
    "t=np.arange(-10,1000,0.01)\n",
    "\n"
   ]
  },
  {
   "cell_type": "markdown",
   "metadata": {},
   "source": [
    "The scipy.stats package contains an implementation of truncated normal distribution. We need to be cautious when using trucnom.pdf() as it requires first to rescale the cutoffs."
   ]
  },
  {
   "cell_type": "code",
   "execution_count": 72,
   "metadata": {
    "collapsed": false
   },
   "outputs": [],
   "source": [
    "\n",
    "## parameters for train A\n",
    "CminA=0. # theoretical depature time, acts as a cutoff for the distribution\n",
    "CmaxA=10**4 # upper cutoff, not use, set to smth very large so that F(CmaxA)=1.\n",
    "muA=8. \n",
    "sigA=5. \n",
    "CminA, CmaxA = (CminA - muA) / sigA, (CmaxA - muA) / sigA # rescale the cutoffs as required by truncom.pdf()\n",
    "\n",
    "# parameters for train B\n",
    "CminB=16.\n",
    "CmaxB=10**4\n",
    "muB=CminB+muA\n",
    "sigB=sigA \n",
    "CminB, CmaxB = (CminB - muB) / sigB, (CmaxB - muB) / sigB\n",
    "\n",
    "\n",
    "#build the distributions\n",
    "pdfA=truncnorm.pdf(t,CminA,CmaxA,loc=muA,scale=sigA)\n",
    "pdfB=truncnorm.pdf(t,CminB,CmaxB,loc=muB,scale=sigB)\n"
   ]
  },
  {
   "cell_type": "markdown",
   "metadata": {
    "collapsed": false
   },
   "source": [
    "Let's check what the distributions look like!"
   ]
  },
  {
   "cell_type": "code",
   "execution_count": 73,
   "metadata": {
    "collapsed": false
   },
   "outputs": [
    {
     "data": {
      "image/png": "[encoded data removed]",
      "text/plain": [
       "<matplotlib.figure.Figure at 0x10b65b310>"
      ]
     },
     "metadata": {},
     "output_type": "display_data"
    }
   ],
   "source": [
    "#----------------\n",
    "# plot the distributions\n",
    "#----------------\n",
    "\n",
    "import matplotlib as mpl\n",
    "import matplotlib.pyplot as plt\n",
    "%matplotlib inline\n",
    "\n",
    "# make fonts larger for plotting\n",
    "fSize=16\n",
    "mpl.rcParams['xtick.labelsize'] = fSize \n",
    "mpl.rcParams['ytick.labelsize'] = fSize \n",
    "mpl.rcParams['axes.labelsize'] = fSize\n",
    "mpl.rc('text', usetex = True)\n",
    "mpl.rc('font', family = 'sans-serif')\n",
    "\n",
    "\n",
    "plt.plot([], [], color='blue', linewidth=10)\n",
    "plt.plot([], [], color='green', linewidth=10)\n",
    "plt.legend(['$p_A(t)$','$p_B(t)$'],fontsize=fSize)\n",
    "plt.fill_between(t,0,pdfA,facecolor='blue',alpha='0.5')\n",
    "plt.fill_between(t,0,pdfB,facecolor='green',alpha='0.5')\n",
    "plt.xlabel('t (min)')\n",
    "plt.xlim([-5,50]);\n",
    "\n"
   ]
  },
  {
   "cell_type": "markdown",
   "metadata": {},
   "source": [
    "From the figure above, the implementation seems ok. As expected, $p_A(t)$ peaks at $t=8$ min and the cutoff occurs at $t=0$ min.\n",
    "There is a non-negligible time interval starting at $t=16$ min where the distributions overlap. In practice, this means that train B might leave earlier than train A!"
   ]
  },
  {
   "cell_type": "markdown",
   "metadata": {},
   "source": [
    "## The mean waiting time"
   ]
  },
  {
   "cell_type": "markdown",
   "metadata": {},
   "source": [
    "Remember that the final goal is to determine at what time I shall arrive at the station so as to minimize the mean waiting time. Obviously, there is a very important ingredient still missing in the model: me!"
   ]
  },
  {
   "cell_type": "markdown",
   "metadata": {},
   "source": [
    "### Here I am!"
   ]
  },
  {
   "cell_type": "markdown",
   "metadata": {},
   "source": [
    "Computing the mean waiting time is greatly simplified by building a probalistic tree to determine which train leaves first. As any mean quantity, it involves some probability distributions. The tricky point is that I will modify these distributions through the time I show up at the station. \n",
    "\n",
    "Let's call G the variable \"arrival time of Greghor at the station\". Contrary to variables $A$ and $B$, $G$ is not random as I decide at what time I want to arrive at the station. \n"
   ]
  },
  {
   "cell_type": "markdown",
   "metadata": {},
   "source": [
    "### The probability tree\n"
   ]
  },
  {
   "cell_type": "markdown",
   "metadata": {},
   "source": [
    "Once at the station, I will take the first departure to Ghent. I may face three distinct situations depending \n",
    "on the values of $G$:\n",
    "1. $A > G $ and train A leaves first, I wait in average $\\Delta A$\n",
    "2. $A > G $ but train B leaves first, I wait in average $\\Delta B$\n",
    "3. $ A \\le G $, train A is already gone when I arrive so I shall take train B, and wait in average $\\Delta B$\n",
    "\n",
    "Let's summarize the three situations on a probability tree"
   ]
  },
  {
   "cell_type": "code",
   "execution_count": 74,
   "metadata": {
    "collapsed": false
   },
   "outputs": [
    {
     "data": {
      "image/png": "[encoded data removed]",
      "text/plain": [
       "<IPython.core.display.Image object>"
      ]
     },
     "execution_count": 74,
     "metadata": {},
     "output_type": "execute_result"
    }
   ],
   "source": [
    "from IPython.display import Image\n",
    "Image(filename='primitive/probaTree.png')"
   ]
  },
  {
   "cell_type": "markdown",
   "metadata": {},
   "source": [
    "We can express the total mean waiting time by adding the contribution of each branch of the tree: \n",
    "$$ \\Delta = [\\text{prob}(A > G) \\times \\text{prob}(A \\le B\\ |\\ A > G) ] \\Delta A + \n",
    "[\\text{prob}(A\\le G)+ \\text{prob}(A > G) \\times \\text{prob}(A > B \\ |\\  A > G) ] \\Delta B  $$"
   ]
  },
  {
   "cell_type": "markdown",
   "metadata": {},
   "source": [
    "#### Probability that I arrive after the departure of the train to Ostend"
   ]
  },
  {
   "cell_type": "markdown",
   "metadata": {},
   "source": [
    "Just remains to compute the different terms in the previous equation. Let's start with the probaility to miss train A, $\\text{prob}(A\\le G)$, which is easy to get\n",
    "$$ \\text{prob}(A \\le G) = \\int_{-\\infty}^G p_A(t) dt. $$\n",
    "\n",
    "The probability to be on time for train A $\\text{prob}(A > G)$ is also easily obtained as the sum of probability at the same \"level\" of the tree is 1, thus \n",
    "$\\text{prob}(A > G) = 1- \\text{prob}(A \\le G)$.\n",
    "\n",
    "The code below illustrates the computation of $ \\text{prob}(A \\le G)$ for $G=5$ min."
   ]
  },
  {
   "cell_type": "code",
   "execution_count": 75,
   "metadata": {
    "collapsed": false
   },
   "outputs": [
    {
     "name": "stdout",
     "output_type": "stream",
     "text": [
      "0.364555649783\n"
     ]
    },
    {
     "data": {
      "image/png": "[encoded data removed]",
      "text/plain": [
       "<matplotlib.figure.Figure at 0x10b642690>"
      ]
     },
     "metadata": {},
     "output_type": "display_data"
    }
   ],
   "source": [
    "\n",
    "# illustrate pA(t>10)\n",
    "\n",
    "\n",
    "plt.plot([], [], color='blue', linewidth=10)\n",
    "plt.legend(['prob(A$\\le$10)'],fontsize=fSize)\n",
    "\n",
    "id=np.where(t <= 10.)\n",
    "plt.fill_between(t[id],0,pdfA[id],facecolor='blue',alpha='0.5')\n",
    "plt.hold\n",
    "plt.plot(t,pdfA)\n",
    "plt.xlim([-5,50]);\n",
    "plt.xlabel('t (min)')\n",
    "\n",
    "# compute pA(t>10) from the cdf function\n",
    "p=1-truncnorm.cdf(10,CminA,CmaxA,loc=muA,scale=sigA)\n",
    "print p"
   ]
  },
  {
   "cell_type": "markdown",
   "metadata": {},
   "source": [
    "The shaded area in the figure above represents the probability $\\text{prob}(A > G)$ for G=10 min and is estimated about 0.36.\n",
    "Note that I didn't represent the distribution for train B here as it doesn't play any role in this computation."
   ]
  },
  {
   "cell_type": "markdown",
   "metadata": {},
   "source": [
    "#### Probability that I catch the train to Ostend"
   ]
  },
  {
   "cell_type": "markdown",
   "metadata": {},
   "source": [
    "\n",
    "Computing the probability that I take train A is more tricky. It implies that train A leaves before train B given that I arrive before the departure of train A, i.e. $\\text{prob}(A \\le B\\ |\\ A > G)$.\n",
    "\n",
    "This probability can be formally expressed by convolving $p_{Z+A| A > G}(t)$ and $p_{B | A > G}(t)$ where $Z=A-B$ is new random variable. I decide to renounce to mathematical rigor here and to choose a more intuitive approach consisting in evaluating $\\text{prob}(A \\le B\\ |\\ A > G) $ numerically.\n",
    "\n",
    "The event $G > A$ does not modify the distribution of B since I will never show up at the station after the scheduled departure time of train B. Consequently, $p_{B | G > A}(t)=p_B(t)$.\n",
    "Things are different with train A. My arrival time doesn't change the shape of $p_A(t)$ but simply acts a new cutoff so as to ensure that: $$ \\int_G^{+\\infty} p_{A|A > G} (t) dt =1$$\n",
    "\n",
    "The numerical evaluation of $\\text{prob}(A \\le B\\ |\\ A > G)$, or equivalently $\\text{prob}(A -B \\le 0\\ |\\ A > G)$,  is obtained in three steps:\n",
    "- draw a large number N of samples $a$ and $b$ from $p_{A| A > G}(t)$ and $p_B(t)$, respectively. \n",
    "- construct $z=a-b$ and count the number of times $n$ where $z \\le 0$\n",
    "- evaluate $\\text{prob}(A \\le B\\ |\\ A > G) \\sim n/N$\n",
    "\n",
    "\n",
    "\n",
    "\n"
   ]
  },
  {
   "cell_type": "markdown",
   "metadata": {},
   "source": [
    "The code below evaluates $\\text{prob}(A \\le B\\ |\\ A > G)$ for $G=14$ min and shows the histogram of $z=a-b$"
   ]
  },
  {
   "cell_type": "code",
   "execution_count": 76,
   "metadata": {
    "collapsed": false
   },
   "outputs": [
    {
     "name": "stdout",
     "output_type": "stream",
     "text": [
      "0.96\n"
     ]
    },
    {
     "data": {
      "image/png": "[encoded data removed]",
      "text/plain": [
       "<matplotlib.figure.Figure at 0x10b3a4150>"
      ]
     },
     "metadata": {},
     "output_type": "display_data"
    }
   ],
   "source": [
    "#  Draw nbSamp from the truncated normal distribution\n",
    "\n",
    "nbSamp=10.**5\n",
    "nBins=np.ceil(nbSamp**(1./3.))\n",
    "\n",
    "cutoff= (14 - muA)/sigA\n",
    "\n",
    "a=truncnorm.rvs(cutoff,CmaxA,loc=muA,scale=sigA,size=nbSamp)\n",
    "b=truncnorm.rvs(CminB,CmaxB,loc=muB,scale=sigB,size=nbSamp)\n",
    "\n",
    "z=a-b\n",
    "\n",
    "# plot histogram\n",
    "plt.hist(z,bins=nBins);\n",
    "plt.xlabel('a-b (min)')\n",
    "plt.ylabel('counts')\n",
    "\n",
    "# find where z <= 0\n",
    "count=np.count_nonzero( z <= 0.)\n",
    "print np.float(count)/nbSamp\n"
   ]
  },
  {
   "cell_type": "markdown",
   "metadata": {
    "collapsed": true
   },
   "source": [
    "Interestingly the distribution of $z=a-b$ is close to be normal even though $a$ and $b$ follow truncated normal distributions. If train A has more than 14 min delayed, there is still $96\\%$ chances that train A will leave before train B. "
   ]
  },
  {
   "cell_type": "markdown",
   "metadata": {},
   "source": [
    "### How much do I wait if I take train A? If I take train B?"
   ]
  },
  {
   "cell_type": "markdown",
   "metadata": {},
   "source": [
    "The average waiting time for train A and B are\n",
    "$$\\Delta A (G) = \\int_{-\\infty}^{+\\infty} (t-G) p_{A|A> G} (t) dt$$\n",
    "\n",
    "and\n",
    "\n",
    "$$\\Delta B (G) = \\int_{-\\infty}^{+\\infty} (t-G) p_B (t) dt,$$\n",
    "\n",
    "respectively."
   ]
  },
  {
   "cell_type": "markdown",
   "metadata": {},
   "source": [
    "### Numerical evaluation of the mean waiting time"
   ]
  },
  {
   "cell_type": "code",
   "execution_count": 77,
   "metadata": {
    "collapsed": false
   },
   "outputs": [],
   "source": [
    "# my arrival time\n",
    "G=np.arange(-2,14,0.1)\n",
    "\n",
    "#Prealloc\n",
    "\n",
    "prob_AaftB=np.zeros(len(G)) # prob(A>B | A > G )\n",
    "prob_AbfrB=np.zeros(len(G)) # prob(A<=B | A > G ))\n",
    "\n",
    "prob_AbfrG=np.zeros(len(G)) # prob(A<= G)\n",
    "prob_AaftG=np.zeros(len(G)) # prob(A > G)\n",
    "\n",
    "wtA=np.zeros(len(G))  # \\Delta A\n",
    "wtB=np.zeros(len(G))  # \\Delta B\n",
    "\n",
    "waiting=np.zeros(len(G))  # total average waiting time\n",
    "\n",
    "for gi in range(len(G)):\n",
    "    \n",
    "    #p( A <= G): train A is gone when I arrive\n",
    "    prob_AbfrG[gi] = truncnorm.cdf(G[gi],CminA,CmaxA,loc=muA,scale=sigA)\n",
    "    \n",
    "    #p(tA>= G): train A is here when I arrive\n",
    "    prob_AaftG[gi] = 1 - prob_AbfrG[gi]\n",
    "    \n",
    "    # distribution of (A| A > G)\n",
    "    cutoff= (G[gi] - muA)/sigA     #rescale cutoff\n",
    "    pdfAgG=truncnorm.pdf(t,cutoff,CmaxA,loc=muA,scale=sigA)\n",
    "    \n",
    "    # compute probability that A leaves before B given the value of G\n",
    "    #evaluate prob(A - B <= 0 | A > G )\n",
    "    nbSamp=10.**5\n",
    "    a=truncnorm.rvs(cutoff,CmaxA,loc=muA,scale=sigA,size=nbSamp)\n",
    "    b=truncnorm.rvs(CminB,CmaxB,loc=muB,scale=sigB,size=nbSamp)\n",
    "    \n",
    "\n",
    "\n",
    "    count=np.count_nonzero(a-b <= 0.)\n",
    "    prob_AbfrB[gi]=np.float(count)/nbSamp #prob(A<=B | A > G ))\n",
    "    prob_AaftB[gi]=1-prob_AbfrB[gi] #prob(A>B | A > G )\n",
    "    \n",
    "    #waiting time for train A\n",
    "    wtA[gi]=np.trapz(pdfAgG*(t-G[gi]),t) \n",
    "    \n",
    "    #waiting time for train B\n",
    "    wtB[gi]=np.trapz(pdfB*(t-G[gi]),t)\n",
    "    \n",
    "    # mean waitinh time\n",
    "    waiting[gi]=prob_AaftG[gi]*(prob_AbfrB[gi]*wtA[gi] + prob_AaftB[gi]*wtB[gi]) + prob_AbfrG[gi]*wtB[gi]\n",
    "    \n",
    "    \n",
    "prob_A=prob_AaftG*prob_AbfrB #prob that I take train A\n",
    "prob_B=(prob_AaftG*prob_AaftB+prob_AbfrG) #prob that I trake train B\n"
   ]
  },
  {
   "cell_type": "code",
   "execution_count": 79,
   "metadata": {
    "collapsed": false
   },
   "outputs": [
    {
     "data": {
      "text/plain": [
       "<matplotlib.text.Text at 0x10b45c5d0>"
      ]
     },
     "execution_count": 79,
     "metadata": {},
     "output_type": "execute_result"
    },
    {
     "data": {
      "image/png": "[encoded data removed]",
      "text/plain": [
       "<matplotlib.figure.Figure at 0x10ce05a50>"
      ]
     },
     "metadata": {},
     "output_type": "display_data"
    }
   ],
   "source": [
    "# plot the total mean waiting time and each contribution\n",
    "%matplotlib inline\n",
    "plt.plot(G,prob_A*wtA,G,prob_B*wtB,G,prob_A*wtA+prob_B*wtB)\n",
    "plt.legend(['train A','train B','total'],loc=5,fontsize=fSize)\n",
    "plt.ylabel('waiting time (min)')\n",
    "plt.ylim([0.,11.5])\n",
    "plt.xlabel('G (min)')"
   ]
  },
  {
   "cell_type": "markdown",
   "metadata": {},
   "source": [
    "The chart above depicts the total waiting time (red curve) as well as the weighted contributions\n",
    "from train A (blue curve) and train B (red curve).  \n",
    "We can broadly distinguish three regions:\n",
    "- $G\\lesssim2.5$, the waiting time decreases with $G$ since the dominant contribution comes from train A. \n",
    "- $2.5 < G \\lesssim 10.8$, even though the waiting time associated to train B decreases with G, the contribution from train B increases because the probability that I take train B increases. The contribution from train A does not longer compensate the contribution of train B resulting in an overall increase of the total waiting time. \n",
    "- $ G > 10.8 $, the contribution of train A becomes negligible. The total waiting asymptotically follows $\\Delta B$,\n",
    "the waiting time associated to train B, and therefore decreases with G.\n",
    "\n",
    "According to this model, I should show up at the station around $G\\sim 2.5$ min to minimize the waiting time. \n",
    "Nevertheless, it doesn't change much if I arrive right before the scheduled departure time of train A ($\\Delta \\sim 8.6$ min for $G=0$ min) or up to $4.5$ min afterwards ($\\Delta \\sim 8.5$ min for $G=4.5$ min). Unfortunately, maths show that I am condemned to wait at least about $8$ min. Damn it!\n",
    "\n",
    "Before closing this post, I should mention that these findings strongly depend on the distribution that I have initially choosen. I will try to negogiate with the SNCB railway company and see if I can access the official train delays data. I am really keen on checking if the truncated normal distribution correctly describes the real data. Stay tuned! Updates are coming soon!"
   ]
  }
 ],
 "metadata": {
  "kernelspec": {
   "display_name": "Python 2",
   "language": "python",
   "name": "python2"
  },
  "language_info": {
   "codemirror_mode": {
    "name": "ipython",
    "version": 2
   },
   "file_extension": ".py",
   "mimetype": "text/x-python",
   "name": "python",
   "nbconvert_exporter": "python",
   "pygments_lexer": "ipython2",
   "version": "2.7.11"
  }
 },
 "nbformat": 4,
 "nbformat_minor": 0
}
