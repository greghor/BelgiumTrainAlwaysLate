{
 "cells": [
  {
   "cell_type": "markdown",
   "metadata": {},
   "source": [
    "# Belgium trains are always late"
   ]
  },
  {
   "cell_type": "markdown",
   "metadata": {},
   "source": [
    "Belgium trains are always late. That might sounds a bit like a cliché but this is unfortunately confirmed almost every day, especially in Brussels. Usually, I take the train at 8:06 heading to Osteende from Brussels South Station, and I stop in beautiful Ghent where my office is located. I generally show up about 2 min before the scheduled departure time. With no exageration, I can say that my train is systematically delayed by about $8 \\pm 5$ min. And it is now freaking cold here in Brussels. So I wait everyday in the Belgium blizzard, fulminating against the Belgium railway company, with only consolation the reading of †he very deep articles from Metronews newspaper.\n",
    "\n",
    "There is a second stopping in Ghent, scheduled at 8:22 with destination Brugges. I take it from time to time, when I snooze my alarm so many times\n",
    "that I end up being late. Unfortunately this train isn't much more on time than the one from 8:06. \n",
    "While I can not do much against the trains delay, I might  take advantage from the fact that two train are leaving in a row; and try to determine at what time I should arrive in the station such as to wait the least before stepping in a train.\n",
    "\n",
    "That's the main goal of this post.\n"
   ]
  },
  {
   "cell_type": "markdown",
   "metadata": {},
   "source": [
    "## Modelisation of the train departure time"
   ]
  },
  {
   "cell_type": "markdown",
   "metadata": {},
   "source": [
    "Departure times varies from day to day, so it is quite natural to use a probability distribution to describe this quantity. Idealy, I should use the train delay record of the Belgium company in order to define the shape of the distribution. This dataset are not publicly available, I therefore need to make some hypothesis on the shape of the distribution based on my own experience. "
   ]
  },
  {
   "cell_type": "markdown",
   "metadata": {},
   "source": [
    "### Shape of the distribution\n"
   ]
  },
  {
   "cell_type": "markdown",
   "metadata": {},
   "source": [
    "It is quite common in the litterature to model phenomena such as departure time of metro with an exponential distribution which is a continuously decreasing on $\\mathbb{R}^+$. I think it is not relevant in my situation as, from my experience, the most likely delay is about 8 min. Furthermore, the probabiliy that the train leaves before the scheduled time should be zero.\n",
    "\n",
    "Let's call A the random variable \"departure time of the train to Ostende\" and $p_A(t)$ its distribution. \n",
    "The simplest choice is thus probably the truncated normal distribution $\\mathcal{N}(\\mu_A,\\sigma_A^2,C_A)$, \n",
    "where $C_A$ is the theoretical departure time. The distribution is defined such that :\n",
    "$$ p_A(t) = \\frac{1}{1-F_A(C_A)} \\frac{1}{\\sigma_A \\sqrt{2\\pi} }  \\text{exp}(- \\frac{(t-\\mu_A)^2}{2\\sigma_A^2}) \\ \\  \\text{for} \\ \\\n",
    "t > C_A,$$\n",
    "\n",
    "and $p_A(t) = 0 \\ \\ \\text{otherwise}$. $F_A( t )$ is the cumulative normal distribution with parameters $(\\mu_A,\\sigma_A$). \n",
    "\n",
    "As I don't have much information, I assume that the random variabme $B$ \"departure time of the train to Bruges\" also follow the same type of distribution. \n",
    "\n",
    "For the numerical implementation in Python, I rescale all the quantities such that $C_A=0$. I use the minute as the unit of time, the numerical values for the parameter are:\n",
    "- train to Ostende scheduled at 8:06 : $\\mu_A=8$, $\\sigma_A=5$ and $C_A=0$,\n",
    "- train to Bruge scheduled at 8:22 : $\\mu_B=8$, $\\sigma_B=5$ and $C_B=16$ .\n"
   ]
  },
  {
   "cell_type": "markdown",
   "metadata": {},
   "source": [
    "\n",
    "Assume that the departure time $t$ of Belgium train are well described by a troncated normal distribution $\\mathcal{N}(\\mu,\\sigma^2,C)$. $C$ is a cutoff parameter which corresponds to the theoretical departure time, meaning that the probability $p(t \\le C)=0$. For $t > C$, the distribution is defined by: $$p(t)= \\frac{1}{1-F(C)} \\frac{1}{\\sigma \\sqrt{2\\pi} }  \\text{exp}(- \\frac{(t-\\mu)^2}{2\\sigma^2})$$"
   ]
  },
  {
   "cell_type": "markdown",
   "metadata": {},
   "source": [
    "\n",
    "I consider two trains say A and B, there is therefore in total 6 parameters and two variables:\n",
    "- $\\mu_A$, $\\sigma_A$ and $C_A$ (for train A)\n",
    "- $\\mu_B$, $\\sigma_A$ and $C_A$ (for train A)\n",
    "- the time t\n",
    "- my arrival time G (as my name is Greghor). Since I want to be sure to get a train, G is bounded $G < C_B$.\n",
    "\n",
    "From my own experience, Belgium trains are always late. This is unfortunately not a stereotype but the sad truth. The theoretical departure time do not coincide to the mean departure time. I would rather say that trains are generally about $5\\pm 3$ min delayed. \n",
    "In order to maths a bit easier, I set the origin of time $t=0$ to be equal to the theoretical departure time of train A such that $C_A$=0 and correspondingly rescale all others quantities"
   ]
  },
  {
   "cell_type": "code",
   "execution_count": 28,
   "metadata": {
    "collapsed": false
   },
   "outputs": [
    {
     "data": {
      "text/plain": [
       "(-5, 50)"
      ]
     },
     "execution_count": 28,
     "metadata": {},
     "output_type": "execute_result"
    },
    {
     "data": {
      "image/png": "[encoded data removed]",
      "text/plain": [
       "<matplotlib.figure.Figure at 0x10a8dd950>"
      ]
     },
     "metadata": {},
     "output_type": "display_data"
    }
   ],
   "source": [
    "import numpy as np\n",
    "import matplotlib as mpl\n",
    "import matplotlib.pyplot as plt\n",
    "from scipy.stats import truncnorm\n",
    "%matplotlib inline\n",
    "\n",
    "\n",
    "# make fonts larger\n",
    "\n",
    "mpl.rcParams['xtick.labelsize'] = 12 \n",
    "mpl.rcParams['ytick.labelsize'] = 12 \n",
    "mpl.rcParams['axes.labelsize'] = 14 \n",
    "\n",
    "\n",
    "t=np.arange(-10,1000,0.01)\n",
    "G=np.arange(-2,14.1,0.1) # my arrival time\n",
    "waiting=np.zeros(len(G))\n",
    "\n",
    "## parameters for train A\n",
    "CminA=0. # theoretical depature time, acts as a cutoff for the distribution\n",
    "CmaxA=10**4 # upper cutoff, not use\n",
    "muA=8.\n",
    "sigA=5.\n",
    "CminA, CmaxA = (CminA - muA) / sigA, (CmaxA - muA) / sigA # rescale the cutoffs as required by truncom.pdf()\n",
    "\n",
    "# parameters for train B\n",
    "CminB=16.\n",
    "CmaxB=10**4\n",
    "muB=CminB+muA\n",
    "sigB=sigA \n",
    "CminB, CmaxB = (CminB - muB) / sigB, (CmaxB - muB) / sigB\n",
    "\n",
    "\n",
    "#build the distributions\n",
    "pdfA=truncnorm.pdf(t,CminA,CmaxA,loc=muA,scale=sigA)\n",
    "cdfA=truncnorm.cdf(t,CminA,CmaxA,loc=muA,scale=sigA)\n",
    "pdfB=truncnorm.pdf(t,CminB,CmaxB,loc=muB,scale=sigB)\n",
    "cdfB=truncnorm.cdf(t,CminB,CmaxB,loc=muB,scale=sigB)\n",
    "\n",
    "\n",
    "# Let's check what the distribution looks like\n",
    "\n",
    "\n",
    "plt.plot([], [], color='blue', linewidth=10)\n",
    "plt.plot([], [], color='green', linewidth=10)\n",
    "plt.legend(['p(A)','p(B)'])\n",
    "plt.fill_between(t,0,pdfA,facecolor='blue',alpha='0.5')\n",
    "plt.fill_between(t,0,pdfB,facecolor='green',alpha='0.5')\n",
    "\n",
    "plt.xlim([-5,50])\n",
    "\n",
    "\n",
    "\n",
    "\n"
   ]
  },
  {
   "cell_type": "code",
   "execution_count": null,
   "metadata": {
    "collapsed": false
   },
   "outputs": [],
   "source": []
  },
  {
   "cell_type": "code",
   "execution_count": null,
   "metadata": {
    "collapsed": false
   },
   "outputs": [],
   "source": [
    "#Prealloc\n",
    "prob_AaftB=np.zeros(len(G))\n",
    "prob_AbfrB=np.zeros(len(G))\n",
    "prob_AbfrG=np.zeros(len(G))\n",
    "prob_AaftG=np.zeros(len(G))\n",
    "wt_Afirst=np.zeros(len(G))\n",
    "wt_Bfirst=np.zeros(len(G))\n",
    "\n",
    "for gi in range(len(G)):\n",
    "    \n",
    "    #p(tA < G): train A is gone when G arrives\n",
    "    prob_AbfrG[gi] = truncnorm.cdf(G[gi],CminA,CmaxA,loc=muA,scale=sigA)\n",
    "    \n",
    "    #p(tA>= G): train A is here when I arrived\n",
    "    prob_AaftG[gi] = 1 - prob_AbfrG[gi]\n",
    "    \n",
    "    # waiting time if first train is A given th value of B\n",
    "    #rescale cutoff\n",
    "    cutoff= (G[gi] - muA)/sigA\n",
    "    pdfAgG=truncnorm.pdf(t,cutoff,CmaxA,loc=muA,scale=sigA)\n",
    "    \n",
    "    # compute probability that A leaves before B given the value of G\n",
    "    #evaluate p(tA - tB < 0)\n",
    "    nbSamp=10**5\n",
    "    tA=truncnorm.rvs(cutoff,CmaxA,loc=muA,scale=sigA,size=nbSamp)\n",
    "    tB=truncnorm.rvs(CminB,CmaxB,loc=muB,scale=sigB,size=nbSamp)\n",
    "\n",
    "\n",
    "\n",
    "    count=np.count_nonzero(tA-tB < 0.)\n",
    "    prob_AbfrB[gi]=np.float(count)/nbSamp\n",
    "    prob_AaftB[gi]=1-prob_AbfrB[gi]\n",
    "    \n",
    "    \n",
    "    wt_Afirst[gi]=np.trapz(pdfAgG*(t-G[gi]),t)\n",
    "    \n",
    "    #waiting time if first train is B\n",
    "    wt_Bfirst[gi]=np.trapz(pdfB*(t-G[gi]),t)\n",
    "    \n",
    "    # mean waitinh time\n",
    "    waiting[gi]=prob_AaftG[gi]*(prob_AbfrB[gi]*wt_Afirst[gi] + prob_AaftB[gi]*wt_Bfirst[gi]) + prob_AbfrG[gi]*wt_Bfirst[gi]\n",
    "    #waiting[gi]=np.trapz((t-G[gi])*())\n",
    "    \n",
    "    \n",
    "prob_A=prob_AaftG*prob_AbfrB\n",
    "prob_B=(prob_AaftG*prob_AaftB+prob_AbfrG)\n",
    "\n",
    "toto=np.zeros(len(G))\n",
    "\n",
    "for gi in range(len(G)):\n",
    "    \n",
    "    toto[gi]=np.trapz(pdfB*(t-G[gi]),t)\n",
    "    \n"
   ]
  },
  {
   "cell_type": "code",
   "execution_count": null,
   "metadata": {
    "collapsed": false
   },
   "outputs": [],
   "source": [
    "#prob to take train A against train B\n",
    "plt.plot(G,prob_A,G,prob_B,G,prob_A+prob_B)\n",
    "plt.ylim([0,1.1])\n",
    "plt.xlim([np.min(G),np.max(G)+10])\n",
    "plt.grid()\n",
    "plt.legend([\"probA\",\"probB\",\"probA+probB\"],loc=5)"
   ]
  },
  {
   "cell_type": "code",
   "execution_count": null,
   "metadata": {
    "collapsed": false
   },
   "outputs": [],
   "source": [
    "# prob of firt departure given G\n",
    "plt.plot(G,prob_AbfrB,G,prob_AaftB,G,prob_AbfrB+prob_AaftB)\n",
    "plt.ylim([0, 1.1])"
   ]
  },
  {
   "cell_type": "code",
   "execution_count": null,
   "metadata": {
    "collapsed": false
   },
   "outputs": [],
   "source": [
    "%matplotlib qt\n",
    "plt.plot(G,prob_A*wt_Afirst,G,prob_B*wt_Bfirst,G,prob_A*wt_Afirst+prob_B*wt_Bfirst)"
   ]
  },
  {
   "cell_type": "code",
   "execution_count": null,
   "metadata": {
    "collapsed": false
   },
   "outputs": [],
   "source": [
    "%matplotlib inline\n",
    "plt.plot(G,prob_A*wt_Afirst,G,prob_B*wt_Bfirst,G,prob_A*wt_Afirst+prob_B*wt_Bfirst)"
   ]
  },
  {
   "cell_type": "code",
   "execution_count": null,
   "metadata": {
    "collapsed": false
   },
   "outputs": [],
   "source": [
    "tA=truncnorm.rvs(CminA,CmaxA,loc=muA,scale=sigA,size=10**6)\n",
    "tB=truncnorm.rvs(CminB,CmaxB,loc=muB,scale=sigB,size=10**6)\n",
    "\n",
    "plt.hist(tA-tB,bins=100);"
   ]
  },
  {
   "cell_type": "code",
   "execution_count": null,
   "metadata": {
    "collapsed": false
   },
   "outputs": [],
   "source": [
    "plt.plot(G,wt_Afirst,G,wt_Bfirst)"
   ]
  },
  {
   "cell_type": "code",
   "execution_count": null,
   "metadata": {
    "collapsed": false
   },
   "outputs": [],
   "source": [
    "plt.plot(G,prob_AaftG)\n",
    "plt.xlim([-2.,5.])"
   ]
  },
  {
   "cell_type": "code",
   "execution_count": null,
   "metadata": {
    "collapsed": false
   },
   "outputs": [],
   "source": [
    "0.7*0.8+0.3*24"
   ]
  },
  {
   "cell_type": "code",
   "execution_count": null,
   "metadata": {
    "collapsed": false
   },
   "outputs": [],
   "source": [
    "truncnorm.cdf(-1.1,CminA,CmaxA,loc=muA,scale=sigA)"
   ]
  },
  {
   "cell_type": "code",
   "execution_count": null,
   "metadata": {
    "collapsed": false
   },
   "outputs": [],
   "source": [
    "CminA\n"
   ]
  },
  {
   "cell_type": "code",
   "execution_count": null,
   "metadata": {
    "collapsed": false
   },
   "outputs": [],
   "source": [
    "G[waiting==np.min(waiting)]"
   ]
  },
  {
   "cell_type": "code",
   "execution_count": null,
   "metadata": {
    "collapsed": false
   },
   "outputs": [],
   "source": [
    "plt.plot(G,prob_A,G,prob_B)"
   ]
  },
  {
   "cell_type": "code",
   "execution_count": null,
   "metadata": {
    "collapsed": false
   },
   "outputs": [],
   "source": [
    "truncnorm.cdf(t,CminA,CmaxA,loc=muA,scale=5)"
   ]
  },
  {
   "cell_type": "code",
   "execution_count": null,
   "metadata": {
    "collapsed": false
   },
   "outputs": [],
   "source": [
    "%matplotlib inline\n",
    "plt.plot(t,truncnorm.cdf(t,CminA,CmaxA,loc=muA,scale=10))\n",
    "plt.xlim([-5 , 10])"
   ]
  },
  {
   "cell_type": "code",
   "execution_count": null,
   "metadata": {
    "collapsed": false
   },
   "outputs": [],
   "source": [
    "CminA\n"
   ]
  },
  {
   "cell_type": "code",
   "execution_count": null,
   "metadata": {
    "collapsed": true
   },
   "outputs": [],
   "source": []
  }
 ],
 "metadata": {
  "kernelspec": {
   "display_name": "Python 2",
   "language": "python",
   "name": "python2"
  },
  "language_info": {
   "codemirror_mode": {
    "name": "ipython",
    "version": 2
   },
   "file_extension": ".py",
   "mimetype": "text/x-python",
   "name": "python",
   "nbconvert_exporter": "python",
   "pygments_lexer": "ipython2",
   "version": "2.7.11"
  }
 },
 "nbformat": 4,
 "nbformat_minor": 0
}
